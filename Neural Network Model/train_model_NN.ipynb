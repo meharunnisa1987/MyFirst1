{
  "nbformat": 4,
  "nbformat_minor": 0,
  "metadata": {
    "colab": {
      "name": "Untitled6.ipynb",
      "provenance": [],
      "gpuType": "T4"
    },
    "kernelspec": {
      "name": "python3",
      "display_name": "Python 3"
    },
    "accelerator": "GPU"
  },
  "cells": [
    {
      "cell_type": "code",
      "metadata": {
        "id": "25fZh19_Csar",
        "colab": {
          "base_uri": "https://localhost:8080/"
        },
        "outputId": "9f609dd7-e31d-4338-a4b3-a990165991b2"
      },
      "source": [
        "!git clone https://github.com/Jaish19/Artificial-Intelligence.git"
      ],
      "execution_count": 1,
      "outputs": [
        {
          "output_type": "stream",
          "name": "stdout",
          "text": [
            "Cloning into 'Artificial-Intelligence'...\n",
            "remote: Enumerating objects: 1747, done.\u001b[K\n",
            "remote: Counting objects: 100% (76/76), done.\u001b[K\n",
            "remote: Compressing objects: 100% (75/75), done.\u001b[K\n",
            "remote: Total 1747 (delta 33), reused 0 (delta 0), pack-reused 1671 (from 1)\u001b[K\n",
            "Receiving objects: 100% (1747/1747), 32.27 MiB | 15.47 MiB/s, done.\n",
            "Resolving deltas: 100% (168/168), done.\n"
          ]
        }
      ]
    },
    {
      "cell_type": "code",
      "metadata": {
        "id": "XgBR5tyJCvr8",
        "colab": {
          "base_uri": "https://localhost:8080/"
        },
        "outputId": "727f4189-4955-4b73-c430-1baa8ba1a16f"
      },
      "source": [
        "import pandas as pd\n",
        "import joblib\n",
        "from tensorflow.keras.models import Sequential\n",
        "from tensorflow.keras.layers import Conv2D\n",
        "from tensorflow.keras.layers import MaxPool2D\n",
        "from tensorflow.keras.layers import Flatten\n",
        "from tensorflow.keras.layers import Dense\n",
        "from sklearn.model_selection import train_test_split\n",
        "from sklearn.preprocessing import MinMaxScaler\n",
        "\n",
        "from sklearn.metrics import mean_absolute_error\n",
        "\n",
        "# Disable some useless pandas warnings to prevent some junk from showing up in the output window\n",
        "pd.options.mode.chained_assignment = None\n",
        "\n",
        "# Load our data set\n",
        "df = pd.read_csv(\"/content/Artificial-Intelligence/Neural Network Model/house_data.csv\")\n",
        "\n",
        "# Create the X and y arrays\n",
        "X = df[[\"sq_feet\", \"num_bedrooms\", \"num_bathrooms\"]]\n",
        "y = df[[\"sale_price\"]]\n",
        "\n",
        "# Data needs to be scaled to  0 to 1 for the neural network to train correctly.\n",
        "X_scaler = MinMaxScaler(feature_range=(0, 1))\n",
        "y_scaler = MinMaxScaler(feature_range=(0, 1))\n",
        "\n",
        "# Scale both the training inputs and outputs\n",
        "X[X.columns] = X_scaler.fit_transform(X[X.columns])\n",
        "y[y.columns] = y_scaler.fit_transform(y[y.columns])\n",
        "\n",
        "# Split the data set in a training set (75%) and a test set (25%)\n",
        "X_train, X_test, y_train, y_test = train_test_split(X, y, test_size=0.25)\n",
        "\n",
        "# Create a Neural Network model\n",
        "model = Sequential()\n",
        "model.add(Dense(50, input_dim=3, activation='relu'))\n",
        "model.add(Dense(100, activation='relu'))\n",
        "model.add(Dense(50, activation='relu'))\n",
        "model.add(Dense(1, activation='linear'))\n",
        "model.compile(\n",
        "    loss='mean_squared_error',\n",
        "    optimizer='adam'\n",
        ")\n",
        "\n",
        "# Train the model\n",
        "model.fit(\n",
        "    X_train,\n",
        "    y_train,\n",
        "    epochs=50,\n",
        "    batch_size=8,\n",
        "    shuffle=True,\n",
        "    verbose=2\n",
        ")\n",
        "\n",
        "# Save the scalers to files so we can use it to pre-process new data later\n",
        "joblib.dump(X_scaler, \"/content/Artificial-Intelligence/Neural Network Model/X_scaler.pkl\")\n",
        "joblib.dump(y_scaler, \"/content/Artificial-Intelligence/Neural Network Model/y_scaler.pkl\")\n",
        "\n",
        "# Save the trained model to a file so we can use it to make predictions later\n",
        "model.save(\"/content/Artificial-Intelligence/Neural Network Model/house_value_model.h5\")\n",
        "\n",
        "# Report how well the model is performing\n",
        "print(\"Model training results:\")\n",
        "\n",
        "# Report mean absolute error on the training set in a value scaled back to dollars so it's easier to understand.\n",
        "predictions_train = model.predict(X_train, verbose=0)\n",
        "\n",
        "mse_train = mean_absolute_error(\n",
        "    y_scaler.inverse_transform(predictions_train),\n",
        "    y_scaler.inverse_transform(y_train)\n",
        ")\n",
        "print(f\" - Training Set Error: {mse_train}\")\n",
        "\n",
        "# Report mean absolute error on the test set in a value scaled back to dollars so it's easier to understand.\n",
        "predictions_test = model.predict(X_test, verbose=0)\n",
        "\n",
        "mse_test = mean_absolute_error(\n",
        "    y_scaler.inverse_transform(predictions_test),\n",
        "    y_scaler.inverse_transform(y_test)\n",
        ")\n",
        "print(f\" - Test Set Error: {mse_test}\")"
      ],
      "execution_count": 22,
      "outputs": [
        {
          "output_type": "stream",
          "name": "stdout",
          "text": [
            "Epoch 1/50\n"
          ]
        },
        {
          "output_type": "stream",
          "name": "stderr",
          "text": [
            "/usr/local/lib/python3.11/dist-packages/keras/src/layers/core/dense.py:87: UserWarning: Do not pass an `input_shape`/`input_dim` argument to a layer. When using Sequential models, prefer using an `Input(shape)` object as the first layer in the model instead.\n",
            "  super().__init__(activity_regularizer=activity_regularizer, **kwargs)\n"
          ]
        },
        {
          "output_type": "stream",
          "name": "stdout",
          "text": [
            "938/938 - 4s - 4ms/step - loss: 0.0026\n",
            "Epoch 2/50\n",
            "938/938 - 2s - 2ms/step - loss: 4.6541e-04\n",
            "Epoch 3/50\n",
            "938/938 - 3s - 3ms/step - loss: 4.4587e-04\n",
            "Epoch 4/50\n",
            "938/938 - 3s - 3ms/step - loss: 4.4091e-04\n",
            "Epoch 5/50\n",
            "938/938 - 2s - 2ms/step - loss: 4.2619e-04\n",
            "Epoch 6/50\n",
            "938/938 - 3s - 3ms/step - loss: 4.1416e-04\n",
            "Epoch 7/50\n",
            "938/938 - 3s - 3ms/step - loss: 4.5638e-04\n",
            "Epoch 8/50\n",
            "938/938 - 3s - 3ms/step - loss: 4.0596e-04\n",
            "Epoch 9/50\n",
            "938/938 - 2s - 2ms/step - loss: 4.1769e-04\n",
            "Epoch 10/50\n",
            "938/938 - 2s - 2ms/step - loss: 3.8968e-04\n",
            "Epoch 11/50\n",
            "938/938 - 2s - 2ms/step - loss: 4.0183e-04\n",
            "Epoch 12/50\n",
            "938/938 - 3s - 3ms/step - loss: 3.8842e-04\n",
            "Epoch 13/50\n",
            "938/938 - 2s - 3ms/step - loss: 3.9954e-04\n",
            "Epoch 14/50\n",
            "938/938 - 3s - 3ms/step - loss: 3.8328e-04\n",
            "Epoch 15/50\n",
            "938/938 - 2s - 2ms/step - loss: 3.9764e-04\n",
            "Epoch 16/50\n",
            "938/938 - 2s - 3ms/step - loss: 3.8170e-04\n",
            "Epoch 17/50\n",
            "938/938 - 3s - 3ms/step - loss: 3.9195e-04\n",
            "Epoch 18/50\n",
            "938/938 - 2s - 2ms/step - loss: 3.8665e-04\n",
            "Epoch 19/50\n",
            "938/938 - 2s - 2ms/step - loss: 4.0120e-04\n",
            "Epoch 20/50\n",
            "938/938 - 2s - 3ms/step - loss: 3.8103e-04\n",
            "Epoch 21/50\n",
            "938/938 - 2s - 3ms/step - loss: 3.8211e-04\n",
            "Epoch 22/50\n",
            "938/938 - 2s - 2ms/step - loss: 3.9976e-04\n",
            "Epoch 23/50\n",
            "938/938 - 2s - 2ms/step - loss: 3.8697e-04\n",
            "Epoch 24/50\n",
            "938/938 - 3s - 3ms/step - loss: 3.7864e-04\n",
            "Epoch 25/50\n",
            "938/938 - 2s - 3ms/step - loss: 3.7318e-04\n",
            "Epoch 26/50\n",
            "938/938 - 2s - 2ms/step - loss: 3.8385e-04\n",
            "Epoch 27/50\n",
            "938/938 - 2s - 2ms/step - loss: 3.8305e-04\n",
            "Epoch 28/50\n",
            "938/938 - 3s - 3ms/step - loss: 3.9775e-04\n",
            "Epoch 29/50\n",
            "938/938 - 3s - 3ms/step - loss: 3.8367e-04\n",
            "Epoch 30/50\n",
            "938/938 - 2s - 2ms/step - loss: 3.7783e-04\n",
            "Epoch 31/50\n",
            "938/938 - 2s - 2ms/step - loss: 3.7554e-04\n",
            "Epoch 32/50\n",
            "938/938 - 2s - 3ms/step - loss: 3.6240e-04\n",
            "Epoch 33/50\n",
            "938/938 - 3s - 3ms/step - loss: 3.8342e-04\n",
            "Epoch 34/50\n",
            "938/938 - 3s - 3ms/step - loss: 3.7632e-04\n",
            "Epoch 35/50\n",
            "938/938 - 2s - 2ms/step - loss: 3.7412e-04\n",
            "Epoch 36/50\n",
            "938/938 - 2s - 2ms/step - loss: 3.9052e-04\n",
            "Epoch 37/50\n",
            "938/938 - 2s - 2ms/step - loss: 3.7204e-04\n",
            "Epoch 38/50\n",
            "938/938 - 2s - 2ms/step - loss: 3.7476e-04\n",
            "Epoch 39/50\n",
            "938/938 - 2s - 2ms/step - loss: 3.8318e-04\n",
            "Epoch 40/50\n",
            "938/938 - 3s - 3ms/step - loss: 3.5938e-04\n",
            "Epoch 41/50\n",
            "938/938 - 3s - 3ms/step - loss: 3.6856e-04\n",
            "Epoch 42/50\n",
            "938/938 - 2s - 2ms/step - loss: 3.7427e-04\n",
            "Epoch 43/50\n",
            "938/938 - 3s - 3ms/step - loss: 3.8068e-04\n",
            "Epoch 44/50\n",
            "938/938 - 2s - 2ms/step - loss: 3.7047e-04\n",
            "Epoch 45/50\n",
            "938/938 - 3s - 3ms/step - loss: 3.8758e-04\n",
            "Epoch 46/50\n",
            "938/938 - 2s - 2ms/step - loss: 3.7299e-04\n",
            "Epoch 47/50\n",
            "938/938 - 2s - 2ms/step - loss: 3.6736e-04\n",
            "Epoch 48/50\n",
            "938/938 - 3s - 3ms/step - loss: 3.7243e-04\n",
            "Epoch 49/50\n",
            "938/938 - 3s - 3ms/step - loss: 3.7026e-04\n",
            "Epoch 50/50\n",
            "938/938 - 3s - 3ms/step - loss: 3.6777e-04\n"
          ]
        },
        {
          "output_type": "stream",
          "name": "stderr",
          "text": [
            "WARNING:absl:You are saving your model as an HDF5 file via `model.save()` or `keras.saving.save_model(model)`. This file format is considered legacy. We recommend using instead the native Keras format, e.g. `model.save('my_model.keras')` or `keras.saving.save_model(model, 'my_model.keras')`. \n"
          ]
        },
        {
          "output_type": "stream",
          "name": "stdout",
          "text": [
            "Model training results:\n",
            " - Training Set Error: 9405.680866666671\n",
            " - Test Set Error: 9520.933062500004\n"
          ]
        }
      ]
    },
    {
      "cell_type": "code",
      "source": [
        "    y_scaler.inverse_transform(predictions_train)\n",
        ""
      ],
      "metadata": {
        "id": "aQIe-mjl_lha",
        "outputId": "6f0635b8-60e1-4d1e-ab0c-b100441f5105",
        "colab": {
          "base_uri": "https://localhost:8080/"
        }
      },
      "execution_count": 19,
      "outputs": [
        {
          "output_type": "execute_result",
          "data": {
            "text/plain": [
              "array([[586978.44],\n",
              "       [434192.75],\n",
              "       [162217.86],\n",
              "       ...,\n",
              "       [439673.1 ],\n",
              "       [325614.25],\n",
              "       [453790.88]], dtype=float32)"
            ]
          },
          "metadata": {},
          "execution_count": 19
        }
      ]
    },
    {
      "cell_type": "code",
      "source": [
        "y_scaler.inverse_transform(y_train)"
      ],
      "metadata": {
        "id": "JXWwYvtC_pnL",
        "outputId": "ef231f10-596c-4508-821f-9b556436ec57",
        "colab": {
          "base_uri": "https://localhost:8080/"
        }
      },
      "execution_count": 20,
      "outputs": [
        {
          "output_type": "execute_result",
          "data": {
            "text/plain": [
              "array([[585910.],\n",
              "       [435967.],\n",
              "       [164299.],\n",
              "       ...,\n",
              "       [452958.],\n",
              "       [338966.],\n",
              "       [449591.]])"
            ]
          },
          "metadata": {},
          "execution_count": 20
        }
      ]
    },
    {
      "cell_type": "code",
      "source": [],
      "metadata": {
        "id": "eHVSLWUX_gSh"
      },
      "execution_count": null,
      "outputs": []
    },
    {
      "cell_type": "code",
      "source": [
        "predictions_train"
      ],
      "metadata": {
        "id": "WnwslZ6T7ZdP",
        "outputId": "821f2fa0-97a7-4e82-d6e1-92322a1ada6f",
        "colab": {
          "base_uri": "https://localhost:8080/"
        }
      },
      "execution_count": 16,
      "outputs": [
        {
          "output_type": "execute_result",
          "data": {
            "text/plain": [
              "array([[0.7482965 ],\n",
              "       [0.51393676],\n",
              "       [0.09675127],\n",
              "       ...,\n",
              "       [0.5223431 ],\n",
              "       [0.3473869 ],\n",
              "       [0.54399854]], dtype=float32)"
            ]
          },
          "metadata": {},
          "execution_count": 16
        }
      ]
    },
    {
      "cell_type": "code",
      "source": [
        "predictions_test"
      ],
      "metadata": {
        "id": "CewhNczh7ctl",
        "outputId": "389de368-e93a-4c04-9c5d-65ef13a998ca",
        "colab": {
          "base_uri": "https://localhost:8080/"
        }
      },
      "execution_count": 17,
      "outputs": [
        {
          "output_type": "execute_result",
          "data": {
            "text/plain": [
              "array([[0.3491878 ],\n",
              "       [0.42494   ],\n",
              "       [0.70928454],\n",
              "       ...,\n",
              "       [0.11918488],\n",
              "       [0.37034923],\n",
              "       [0.6076378 ]], dtype=float32)"
            ]
          },
          "metadata": {},
          "execution_count": 17
        }
      ]
    }
  ]
}